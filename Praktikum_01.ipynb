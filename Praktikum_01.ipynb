{
  "nbformat": 4,
  "nbformat_minor": 0,
  "metadata": {
    "colab": {
      "provenance": [],
      "authorship_tag": "ABX9TyMpzt6UwZPmyJmLKubKi9i6",
      "include_colab_link": true
    },
    "kernelspec": {
      "name": "python3",
      "display_name": "Python 3"
    },
    "language_info": {
      "name": "python"
    }
  },
  "cells": [
    {
      "cell_type": "markdown",
      "metadata": {
        "id": "view-in-github",
        "colab_type": "text"
      },
      "source": [
        "<a href=\"https://colab.research.google.com/github/ChrisX215/Algoritma-Pemrograman-2025/blob/main/Praktikum_01.ipynb\" target=\"_parent\"><img src=\"https://colab.research.google.com/assets/colab-badge.svg\" alt=\"Open In Colab\"/></a>"
      ]
    },
    {
      "cell_type": "markdown",
      "source": [
        "# Menghitung Luas Persegi Panjang"
      ],
      "metadata": {
        "id": "SbYI95gd3m0M"
      }
    },
    {
      "cell_type": "code",
      "execution_count": null,
      "metadata": {
        "id": "bGmwxmsb1yyJ",
        "colab": {
          "base_uri": "https://localhost:8080/"
        },
        "outputId": "bec3f4a4-111e-41d1-965f-9960f4347eb2"
      },
      "outputs": [
        {
          "output_type": "stream",
          "name": "stdout",
          "text": [
            "Masukkan panjang: 15\n",
            "Masukkan lebar : 3\n",
            "Luas persegi panjang = 45\n"
          ]
        }
      ],
      "source": [
        "p = int(input(\"Masukkan panjang: \"))\n",
        "l = int(input (\"Masukkan lebar : \"))\n",
        "luas = p * l\n",
        "print (\"Luas persegi panjang =\", luas)"
      ]
    },
    {
      "cell_type": "markdown",
      "source": [
        "# Menghitung Luas Segitiga (Rumus Heron)"
      ],
      "metadata": {
        "id": "yRCP4nyw9wnD"
      }
    },
    {
      "cell_type": "code",
      "source": [
        "import math\n",
        "\n",
        "a = float(input(\"Masukkan sisi a: \"))\n",
        "b = float(input(\"Masukkan sisi b: \"))\n",
        "c = float(input(\"Masukkan sisi c: \"))\n",
        "\n",
        "s = (a + b + c) / 2\n",
        "luas = math.sqrt(s * (s - a) * (s - b) * (s - c))\n",
        "print(\"Luas segitiga =\", luas)"
      ],
      "metadata": {
        "colab": {
          "base_uri": "https://localhost:8080/"
        },
        "id": "7_xE2FVk9k0C",
        "outputId": "9473db1a-dc9c-4820-aea5-9f58d7cafbb8"
      },
      "execution_count": null,
      "outputs": [
        {
          "output_type": "stream",
          "name": "stdout",
          "text": [
            "Masukkan sisi a: 6\n",
            "Masukkan sisi b: 6\n",
            "Masukkan sisi c: 6\n",
            "Luas segitiga = 15.588457268119896\n"
          ]
        }
      ]
    },
    {
      "cell_type": "markdown",
      "source": [
        "# Konversi Suhu Celcius ke Fahrenheit"
      ],
      "metadata": {
        "id": "cFSMm14mCwTw"
      }
    },
    {
      "cell_type": "code",
      "source": [
        "c = float(input(\"Masukkan suhu (C): \"))\n",
        "f = (c * 9/5) + 32\n",
        "print(\"Hasil konversi =\", f, \"F\")"
      ],
      "metadata": {
        "colab": {
          "base_uri": "https://localhost:8080/"
        },
        "id": "_lxvxp-pA1k7",
        "outputId": "5ef3a19c-2282-4904-f0fe-334a5a09060b"
      },
      "execution_count": null,
      "outputs": [
        {
          "output_type": "stream",
          "name": "stdout",
          "text": [
            "Masukkan suhu (C): 9\n",
            "Hasil konversi = 48.2 F\n"
          ]
        }
      ]
    },
    {
      "cell_type": "markdown",
      "source": [
        "# Menghitung Umur berdasarkan Tahun Lahir"
      ],
      "metadata": {
        "id": "bv1rvak1DKo-"
      }
    },
    {
      "cell_type": "code",
      "source": [
        "tahun_lahir = int(input(\"Masukkan tahun lahir: \"))\n",
        "tahun_sekarang = 2025\n",
        "umur = tahun_sekarang - tahun_lahir\n",
        "print(\"Umur anda =\", umur, \"tahun\")"
      ],
      "metadata": {
        "colab": {
          "base_uri": "https://localhost:8080/"
        },
        "id": "V__GYIGHDLOk",
        "outputId": "1d0ea9fc-80b2-4ecb-94cb-ee2a5ee2cb0d"
      },
      "execution_count": null,
      "outputs": [
        {
          "output_type": "stream",
          "name": "stdout",
          "text": [
            "Masukkan tahun lahir: 2007\n",
            "Umur anda = 18 tahun\n"
          ]
        }
      ]
    },
    {
      "cell_type": "markdown",
      "source": [
        "# Menghitung Luas Lingkaran"
      ],
      "metadata": {
        "id": "ktn8lXvbFUv6"
      }
    },
    {
      "cell_type": "code",
      "source": [
        "import math\n",
        "r = float(input(\"Masukkan jari-jari Lingkaran\"))\n",
        "luas = math.pi * r * r\n",
        "print(\"Luas Lingkaran =\", luas)\n",
        "\n",
        "\n"
      ],
      "metadata": {
        "id": "6uRyDtNYDJr9",
        "colab": {
          "base_uri": "https://localhost:8080/"
        },
        "outputId": "3f822939-9d69-4d36-de50-24cfc8c89228"
      },
      "execution_count": null,
      "outputs": [
        {
          "output_type": "stream",
          "name": "stdout",
          "text": [
            "Masukkan jari-jari Lingkaran 10\n",
            "Luas Lingkaran = 314.1592653589793\n"
          ]
        }
      ]
    },
    {
      "cell_type": "markdown",
      "source": [
        "# Menjumlahkan Tiga Bilangan"
      ],
      "metadata": {
        "id": "HkTkPFdbUNf-"
      }
    },
    {
      "cell_type": "code",
      "source": [
        "a = int(input(\"Masukkan bilangan pertama: \"))\n",
        "b = int(input(\"Masukkan bilangan kedua: \"))\n",
        "c = int(input(\"Masukkan bilangan ketiga: \"))\n",
        "jumlah = a + b + c\n",
        "print(\"Jumlah =\", jumlah)"
      ],
      "metadata": {
        "colab": {
          "base_uri": "https://localhost:8080/"
        },
        "id": "d-gvPA-0L6Ck",
        "outputId": "d561e688-67e2-47a0-8885-fd80de48ead6"
      },
      "execution_count": null,
      "outputs": [
        {
          "output_type": "stream",
          "name": "stdout",
          "text": [
            "Masukkan bilangan pertama: 6\n",
            "Masukkan bilangan kedua: 4\n",
            "Masukkan bilangan ketiga: 4\n",
            "Jumlah = 14\n"
          ]
        }
      ]
    },
    {
      "cell_type": "markdown",
      "source": [
        "# Menghitung Volume Balok"
      ],
      "metadata": {
        "id": "73zfqwT2uEAr"
      }
    },
    {
      "cell_type": "code",
      "source": [
        "p = int(input(\"Masukkan panjang:\"))\n",
        "l = int(input(\"Masukkan lebar:\"))\n",
        "t = int(input(\"Masukkan tinggi:\"))\n",
        "volume = p * l * t\n",
        "print(\"Volume Balok adalah:\",volume)\n"
      ],
      "metadata": {
        "id": "DNMDYI0WfF0g",
        "colab": {
          "base_uri": "https://localhost:8080/"
        },
        "outputId": "1889c609-9844-4047-d51d-0f5b26aa07f6"
      },
      "execution_count": null,
      "outputs": [
        {
          "output_type": "stream",
          "name": "stdout",
          "text": [
            "Masukkan panjang:5\n",
            "Masukkan lebar:5\n",
            "Masukkan tinggi:5\n",
            "Volume Balok adalah: 125\n"
          ]
        }
      ]
    },
    {
      "cell_type": "markdown",
      "source": [
        "# Konversi Waktu (Detik ke Jam:Menit:Detik)"
      ],
      "metadata": {
        "id": "RMQFXKdg0pTf"
      }
    },
    {
      "cell_type": "code",
      "source": [
        "totalDetik = int(input(\"Masukkan detik:\"))\n",
        "sisaDetik = totalDetik % 60\n",
        "menit = totalDetik // 60\n",
        "detik = sisaDetik % 60\n",
        "jam = totalDetik //3600\n",
        "menit = menit % 60\n",
        "print(\"Konversi Waktu dari\", totalDetik,\"detik adalah\",jam,\"jam\",menit,\"menit\",sisaDetik,\"detik\")\n"
      ],
      "metadata": {
        "id": "NguQWcti0jUW",
        "colab": {
          "base_uri": "https://localhost:8080/"
        },
        "outputId": "eb74fa6b-aa41-4eca-9d02-d08e46563f81"
      },
      "execution_count": null,
      "outputs": [
        {
          "output_type": "stream",
          "name": "stdout",
          "text": [
            "Masukkan detik:6700\n",
            "Konversi Waktu dari 6700 detik adalah 1 jam 51 menit 40 detik\n"
          ]
        }
      ]
    },
    {
      "cell_type": "markdown",
      "source": [
        "# Rata-Rata Nilai Tiga Mata Kuliah"
      ],
      "metadata": {
        "id": "BVVMtZ7pXyVO"
      }
    },
    {
      "cell_type": "code",
      "source": [
        "a = float(input(\"Nilai Mata Kuliah 1 :\"))\n",
        "b = float(input(\"Nilai Mata Kuliah 2 :\"))\n",
        "c = float(input(\"Nilai Mata KUliah 3 :\"))\n",
        "rataRata = ( a + b + c) / 3\n",
        "if rataRata>= 60:\n",
        "    keterangan = \"Lulus\"\n",
        "else:\n",
        "    keterangan = \"Tidak Lulus\"\n",
        "print(\"Rata-rata nilai Anda:\", rataRata)\n",
        "print(\"Keterangan\", keterangan)\n",
        "\n"
      ],
      "metadata": {
        "id": "tIW1C6f54VIp",
        "colab": {
          "base_uri": "https://localhost:8080/"
        },
        "outputId": "eab22b40-a89b-41ac-fe34-5b00d3f214ad"
      },
      "execution_count": null,
      "outputs": [
        {
          "output_type": "stream",
          "name": "stdout",
          "text": [
            "Nilai Mata Kuliah 1 :75\n",
            "Nilai Mata Kuliah 2 :79\n",
            "Nilai Mata KUliah 3 :86\n",
            "Rata-rata nilai Anda: 80.0\n",
            "Keterangan Lulus\n"
          ]
        }
      ]
    },
    {
      "cell_type": "markdown",
      "source": [
        "# Menghitung Diskon Belanja"
      ],
      "metadata": {
        "id": "X51dyun_08X9"
      }
    },
    {
      "cell_type": "code",
      "source": [
        "totalBelanja = float(input(\"Masukkan Total Belanja: Rp.\"))\n",
        "if totalBelanja >= 500000:\n",
        "    diskon = 0.2\n",
        "elif totalBelanja >= 250000:\n",
        "    diskon = 0.1\n",
        "else:\n",
        "    diskon = 0\n",
        "totalBayar = totalBelanja - (totalBelanja * diskon)\n",
        "totalDiskon = totalBelanja * diskon\n",
        "print(\"Total Belanja: Rp.\", totalBelanja)\n",
        "print(\"Diskon: Rp,\", totalDiskon)\n",
        "print(\"Total Setelah Diskon: Rp.\", totalBayar)\n"
      ],
      "metadata": {
        "id": "RbLwPrgohVnZ",
        "outputId": "cfaada68-76d6-4858-b75e-737b1518a989",
        "colab": {
          "base_uri": "https://localhost:8080/"
        }
      },
      "execution_count": 3,
      "outputs": [
        {
          "output_type": "stream",
          "name": "stdout",
          "text": [
            "Masukkan Total Belanja: Rp.700000\n",
            "Total Belanja: Rp. 700000.0\n",
            "Diskon: Rp, 140000.0\n",
            "Total Setelah Diskon: Rp. 560000.0\n"
          ]
        }
      ]
    },
    {
      "cell_type": "code",
      "source": [],
      "metadata": {
        "id": "jybkEiKy2xdg"
      },
      "execution_count": null,
      "outputs": []
    }
  ]
}