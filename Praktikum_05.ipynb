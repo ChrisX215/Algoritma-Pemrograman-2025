{
  "nbformat": 4,
  "nbformat_minor": 0,
  "metadata": {
    "colab": {
      "provenance": [],
      "authorship_tag": "ABX9TyM5wP4mzPOIu37s/6i/jrS9",
      "include_colab_link": true
    },
    "kernelspec": {
      "name": "python3",
      "display_name": "Python 3"
    },
    "language_info": {
      "name": "python"
    }
  },
  "cells": [
    {
      "cell_type": "markdown",
      "metadata": {
        "id": "view-in-github",
        "colab_type": "text"
      },
      "source": [
        "<a href=\"https://colab.research.google.com/github/ChrisX215/Algoritma-Pemrograman-2025/blob/main/Praktikum_05.ipynb\" target=\"_parent\"><img src=\"https://colab.research.google.com/assets/colab-badge.svg\" alt=\"Open In Colab\"/></a>"
      ]
    },
    {
      "cell_type": "markdown",
      "source": [
        "# Praktikum 01 - Indexing dan Slicing"
      ],
      "metadata": {
        "id": "I3WE-L3lINir"
      }
    },
    {
      "cell_type": "code",
      "execution_count": null,
      "metadata": {
        "colab": {
          "base_uri": "https://localhost:8080/"
        },
        "id": "xM-pAFgCFbeO",
        "outputId": "ba6409fb-53d5-4b9c-e3a7-c28c91b69ffe"
      },
      "outputs": [
        {
          "output_type": "stream",
          "name": "stdout",
          "text": [
            "Politeknik\n",
            "Negeri \n",
            "Semarang\n"
          ]
        }
      ],
      "source": [
        "teks = \"Politeknik Negeri Semarang\"\n",
        "\n",
        "print(teks[0:10]) #Politeknik\n",
        "print(teks[11:18]) #negri\n",
        "print(teks[-8:]) #Semarang"
      ]
    },
    {
      "cell_type": "markdown",
      "source": [
        "# Praktikum 02 - Method Bawaan String"
      ],
      "metadata": {
        "id": "uPtacvAUKiZp"
      }
    },
    {
      "cell_type": "code",
      "source": [
        "teks = \"Politeknik Negeri Semarang\"\n",
        "\n",
        "print(teks.upper())\n",
        "print(teks.lower())\n",
        "print(teks.title())\n",
        "print(teks.strip())\n",
        "print(teks.split(\" \"))\n",
        "print(\"-\".join([\"Politeknik\", \"Negeri\", \"Semarang\"]))\n"
      ],
      "metadata": {
        "colab": {
          "base_uri": "https://localhost:8080/"
        },
        "id": "Zz4NmzkiK6CT",
        "outputId": "2165bc1f-6a23-4dd7-caa4-5f5b2ef1d3ca"
      },
      "execution_count": null,
      "outputs": [
        {
          "output_type": "stream",
          "name": "stdout",
          "text": [
            "POLITEKNIK NEGERI SEMARANG\n",
            "politeknik negeri semarang\n",
            "Politeknik Negeri Semarang\n",
            "Politeknik Negeri Semarang\n",
            "['Politeknik', 'Negeri', 'Semarang']\n",
            "Politeknik-Negeri-Semarang\n"
          ]
        }
      ]
    },
    {
      "cell_type": "markdown",
      "source": [
        "# Praktikum 03 - Validasi Password"
      ],
      "metadata": {
        "id": "GXRXP7J8NL0m"
      }
    },
    {
      "cell_type": "code",
      "source": [
        "password = input(\"Masukkan password baru: \")\n",
        "\n",
        "if len(password) >= 8:\n",
        "  print(\"Password valid\")\n",
        "else:\n",
        "  print(\"Password terlalu pendek\")"
      ],
      "metadata": {
        "colab": {
          "base_uri": "https://localhost:8080/"
        },
        "id": "FIlu9JIwN_ev",
        "outputId": "81100f26-6557-49e5-8c85-0f782798bf5a"
      },
      "execution_count": 2,
      "outputs": [
        {
          "output_type": "stream",
          "name": "stdout",
          "text": [
            "Masukkan password baru: abc\n",
            "Password terlalu pendek\n"
          ]
        }
      ]
    },
    {
      "cell_type": "markdown",
      "source": [
        "# Praktikum 04 - String Formatting dengan F-String"
      ],
      "metadata": {
        "id": "hBvTkP1OOKNd"
      }
    },
    {
      "cell_type": "code",
      "source": [
        "nama = input(\"Masukkan nama anda: \")\n",
        "usia = int(input(\"Masukkan usia anda: \"))\n",
        "\n",
        "print(f\"Selamat datang {nama}, anda berusia {usia} tahun\")"
      ],
      "metadata": {
        "id": "jpGMfLM2OZyM",
        "colab": {
          "base_uri": "https://localhost:8080/"
        },
        "outputId": "84e8e10f-8406-4203-c81c-f1428df355d1"
      },
      "execution_count": 3,
      "outputs": [
        {
          "output_type": "stream",
          "name": "stdout",
          "text": [
            "Masukkan nama anda: Budi\n",
            "Masukkan usia anda: 21\n",
            "Selamat datang Budi, anda berusia 21 tahun\n"
          ]
        }
      ]
    },
    {
      "cell_type": "markdown",
      "source": [
        "# Praktikum 05 - Operasi dalam F-String"
      ],
      "metadata": {
        "id": "EzsCAZSvqZLq"
      }
    },
    {
      "cell_type": "code",
      "source": [
        "a = int(input(\"Masukkan angka pertama: \"))\n",
        "b = int(input(\"Masukkan angka kedua: \"))\n",
        "\n",
        "print(f\"\\n  Hasil penjumlahan dari {a} + {b} adalah {a + b}\")\n",
        "print(f\"\\nHasil pembagian dari {a} / {b} adalah {a / b}\")"
      ],
      "metadata": {
        "colab": {
          "base_uri": "https://localhost:8080/"
        },
        "id": "x3dLjQdZqve3",
        "outputId": "57c14962-42a2-4d58-d1ae-113ea61f3562"
      },
      "execution_count": 4,
      "outputs": [
        {
          "output_type": "stream",
          "name": "stdout",
          "text": [
            "Masukkan angka pertama: 10\n",
            "Masukkan angka kedua: 3\n",
            "\n",
            "  Hasil penjumlahan dari 10 + 3 adalah 13\n",
            "\n",
            "Hasil pembagian dari 10 / 3 adalah 3.3333333333333335\n"
          ]
        }
      ]
    },
    {
      "cell_type": "markdown",
      "source": [
        "# Praktikum 06 - Casting String"
      ],
      "metadata": {
        "id": "AY-f8GiOq9G8"
      }
    },
    {
      "cell_type": "code",
      "source": [
        "angka = 123\n",
        "string = \"456\"\n",
        "\n",
        "print(\"Nilai: \" + str(angka))\n",
        "print(int(string) + 10)"
      ],
      "metadata": {
        "colab": {
          "base_uri": "https://localhost:8080/"
        },
        "id": "TG4LUWAqrQz3",
        "outputId": "8f2589b9-2973-4c80-eb4b-2fca585399b2"
      },
      "execution_count": 1,
      "outputs": [
        {
          "output_type": "stream",
          "name": "stdout",
          "text": [
            "Nilai: 123\n",
            "466\n"
          ]
        }
      ]
    },
    {
      "cell_type": "markdown",
      "source": [
        "# Praktikum 07 – Studi Kasus Nyata: Analisis Kalimat"
      ],
      "metadata": {
        "id": "Nt07B0u6rWVk"
      }
    },
    {
      "cell_type": "code",
      "source": [
        "kalimat = \"Saya kuliah di Politeknik Negeri Semarang\"\n",
        "\n",
        "daftar_kata = kalimat.split(\" \")\n",
        "\n",
        "print(f\"Jumlah kata: {len(daftar_kata)}\")\n",
        "for i, kata in enumerate(daftar_kata, start = 1):\n",
        "  print(i, kata)"
      ],
      "metadata": {
        "colab": {
          "base_uri": "https://localhost:8080/"
        },
        "id": "9DxVie-lra1i",
        "outputId": "7618c4c8-e57b-4017-c250-e447eb1ee8d5"
      },
      "execution_count": null,
      "outputs": [
        {
          "output_type": "stream",
          "name": "stdout",
          "text": [
            "Jumlah kata: 6\n",
            "1 Saya\n",
            "2 kuliah\n",
            "3 di\n",
            "4 Politeknik\n",
            "5 Negeri\n",
            "6 Semarang\n"
          ]
        }
      ]
    },
    {
      "cell_type": "markdown",
      "source": [
        "# Penugasan 01 - Indexing dan Slicing"
      ],
      "metadata": {
        "id": "HG6nkq0Gryni"
      }
    },
    {
      "cell_type": "code",
      "source": [
        "teks = \"Politeknik Negeri Semarang\"\n",
        "\n",
        "print(teks[-8:])\n",
        "print(teks[11:17])"
      ],
      "metadata": {
        "colab": {
          "base_uri": "https://localhost:8080/"
        },
        "id": "sBlQOTBJr5lE",
        "outputId": "1c0b0d16-56ff-4038-add0-bdb4568cc6ff"
      },
      "execution_count": null,
      "outputs": [
        {
          "output_type": "stream",
          "name": "stdout",
          "text": [
            "Semarang\n",
            "Negeri\n"
          ]
        }
      ]
    },
    {
      "cell_type": "markdown",
      "source": [
        "# Penugasan 02 - Manipulasi String"
      ],
      "metadata": {
        "id": "qYxXaCZzsDvz"
      }
    },
    {
      "cell_type": "code",
      "source": [
        "teks = input(\"Masukkan kata atau kalimat: \")\n",
        "\n",
        "print(teks.upper())\n",
        "print(teks.lower())\n",
        "print(len(teks))"
      ],
      "metadata": {
        "colab": {
          "base_uri": "https://localhost:8080/"
        },
        "id": "buiS4o2rsDGy",
        "outputId": "e5574f43-6f99-4530-d87d-3b3b58e0ed1b"
      },
      "execution_count": null,
      "outputs": [
        {
          "output_type": "stream",
          "name": "stdout",
          "text": [
            "Masukkan kata atau kalimat: Fabiano\n",
            "FABIANO\n",
            "fabiano\n",
            "7\n"
          ]
        }
      ]
    },
    {
      "cell_type": "markdown",
      "source": [
        "# Penugasan 03 - Validasi Username"
      ],
      "metadata": {
        "id": "lLDABP9ksRqa"
      }
    },
    {
      "cell_type": "code",
      "source": [
        "username = input(\"Masukkan username: \")\n",
        "\n",
        "if ' ' in username:\n",
        "    print(\"Error: Username tidak boleh mengandung spasi.\")\n",
        "else:\n",
        "    print(\"Username valid.\")"
      ],
      "metadata": {
        "colab": {
          "base_uri": "https://localhost:8080/"
        },
        "id": "hmgkvXH7sqNl",
        "outputId": "72aae61e-2f17-4151-e704-deec10b53106"
      },
      "execution_count": null,
      "outputs": [
        {
          "output_type": "stream",
          "name": "stdout",
          "text": [
            "Masukkan username: Chris\n",
            "Username valid.\n"
          ]
        }
      ]
    },
    {
      "cell_type": "markdown",
      "source": [
        "# Penugasan 04 - String Formatting dengan F-String"
      ],
      "metadata": {
        "id": "AQG_w7-ys1vL"
      }
    },
    {
      "cell_type": "code",
      "source": [
        "nama = input(\"Masukkan nama: \")\n",
        "umur = int(input(\"Masukkan umur: \"))\n",
        "jurusan = input(\"Masukkan jurusan kamu: \")\n",
        "\n",
        "print(f\"\\nNama: {nama}\")\n",
        "print(f\"Umur: {umur}\")\n",
        "print(f\"Jurusan: {jurusan}\")"
      ],
      "metadata": {
        "colab": {
          "base_uri": "https://localhost:8080/"
        },
        "id": "-F5Ui3UNs-dA",
        "outputId": "caa3648b-0d48-4629-838c-9fb75f7e46a7"
      },
      "execution_count": null,
      "outputs": [
        {
          "output_type": "stream",
          "name": "stdout",
          "text": [
            "Masukkan nama: Abi\n",
            "Masukkan umur: 18\n",
            "Masukkan jurusan kamu: TI\n",
            "\n",
            "Nama: Abi\n",
            "Umur: 18\n",
            "Jurusan: TI\n"
          ]
        }
      ]
    },
    {
      "cell_type": "markdown",
      "source": [
        "# Penugasan 05 - Operasi dalam F-String"
      ],
      "metadata": {
        "id": "Q8BoduCKtGe8"
      }
    },
    {
      "cell_type": "code",
      "source": [
        "try:\n",
        "    bilangan1 = float(input(\"Masukkan bilangan pertama: \"))\n",
        "    bilangan2 = float(input(\"Masukkan bilangan kedua: \"))\n",
        "\n",
        "    penjumlahan = bilangan1 + bilangan2\n",
        "    perkalian = bilangan1 * bilangan2\n",
        "\n",
        "    print(f\"Hasil penjumlahan: {penjumlahan}\")\n",
        "    print(f\"Hasil perkalian: {perkalian}\")\n",
        "\n",
        "    if bilangan2 == 0:\n",
        "        print(\"Hasil bagi: Error (Tidak bisa melakukan pembagian dengan nol)\")\n",
        "    else:\n",
        "        pembagian = bilangan1 / bilangan2\n",
        "        print(f\"Hasil bagi: {pembagian:.3f}\")\n",
        "\n",
        "except ValueError:\n",
        "    print(\"Error: Input yang dimasukkan harus berupa angka.\")\n"
      ],
      "metadata": {
        "colab": {
          "base_uri": "https://localhost:8080/"
        },
        "id": "7fIf1o9MtQZC",
        "outputId": "d61bd10f-4048-4d7b-f8f8-00bb42c3653a"
      },
      "execution_count": null,
      "outputs": [
        {
          "output_type": "stream",
          "name": "stdout",
          "text": [
            "Masukkan bilangan pertama: 16\n",
            "Masukkan bilangan kedua: 7\n",
            "Hasil penjumlahan: 23.0\n",
            "Hasil perkalian: 112.0\n",
            "Hasil bagi: 2.286\n"
          ]
        }
      ]
    },
    {
      "cell_type": "markdown",
      "source": [
        "# Penugasan 06 - Casting Data"
      ],
      "metadata": {
        "id": "LbvC8VsYtJYG"
      }
    },
    {
      "cell_type": "code",
      "source": [
        "angka_string = input(\"Masukkan sebuah angka: \")\n",
        "\n",
        "try:\n",
        "    angka_integer = int(angka_string)\n",
        "\n",
        "    hasil_kuadrat = angka_integer ** 2\n",
        "    print(f\"Bentuk integer: {angka_integer}\")\n",
        "    print(f\"Hasil kuadrat: {hasil_kuadrat}\")\n",
        "\n",
        "    angka_float = float(angka_string)\n",
        "\n",
        "    print(f\"Bentuk float (2 desimal): {angka_float:.2f}\")\n",
        "\n",
        "except ValueError:\n",
        "    print(f\"Error: '{angka_string}' bukan input angka yang valid.\")"
      ],
      "metadata": {
        "colab": {
          "base_uri": "https://localhost:8080/"
        },
        "id": "c0HqHXQ1uMZY",
        "outputId": "95238eee-57cd-4153-b993-d993d5b39baa"
      },
      "execution_count": null,
      "outputs": [
        {
          "output_type": "stream",
          "name": "stdout",
          "text": [
            "Masukkan sebuah angka: 69\n",
            "Bentuk integer: 69\n",
            "Hasil kuadrat: 4761\n",
            "Bentuk float (2 desimal): 69.00\n"
          ]
        }
      ]
    },
    {
      "cell_type": "markdown",
      "source": [
        "# Penugasan 07 - Studi Kasus Analisis Teks"
      ],
      "metadata": {
        "id": "FVReuMkutM26"
      }
    },
    {
      "cell_type": "code",
      "source": [
        "kalimat = input(\"Masukkan sebuah kalimat: \")\n",
        "\n",
        "daftar_kata = kalimat.split()\n",
        "\n",
        "if not daftar_kata:\n",
        "    print(\"Anda tidak memasukkan kalimat apapun.\")\n",
        "else:\n",
        "    jumlah_kata = len(daftar_kata)\n",
        "    print(f\"Jumlah kata: {jumlah_kata}\")\n",
        "\n",
        "    kata_terpanjang = max(daftar_kata, key=len)\n",
        "    print(f\"Kata terpanjang: {kata_terpanjang}\")\n",
        "\n",
        "    kata_terurut = sorted(daftar_kata, key=str.lower)\n",
        "\n",
        "    print(f\"Urutan kata (abjad): {' '.join(kata_terurut)}\")"
      ],
      "metadata": {
        "colab": {
          "base_uri": "https://localhost:8080/"
        },
        "id": "0tyRMfoGtPxC",
        "outputId": "94ff0290-0fcd-4526-b7ec-e21fc88d88bb"
      },
      "execution_count": null,
      "outputs": [
        {
          "output_type": "stream",
          "name": "stdout",
          "text": [
            "Masukkan sebuah kalimat: when yh\n",
            "Jumlah kata: 2\n",
            "Kata terpanjang: when\n",
            "Urutan kata (abjad): when yh\n"
          ]
        }
      ]
    }
  ]
}