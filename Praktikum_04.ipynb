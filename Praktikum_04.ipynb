{
  "nbformat": 4,
  "nbformat_minor": 0,
  "metadata": {
    "colab": {
      "provenance": [],
      "authorship_tag": "ABX9TyMaMV4BZomPoh11qVX0ppUy",
      "include_colab_link": true
    },
    "kernelspec": {
      "name": "python3",
      "display_name": "Python 3"
    },
    "language_info": {
      "name": "python"
    }
  },
  "cells": [
    {
      "cell_type": "markdown",
      "metadata": {
        "id": "view-in-github",
        "colab_type": "text"
      },
      "source": [
        "<a href=\"https://colab.research.google.com/github/ChrisX215/Algoritma-Pemrograman-2025/blob/main/Praktikum_04.ipynb\" target=\"_parent\"><img src=\"https://colab.research.google.com/assets/colab-badge.svg\" alt=\"Open In Colab\"/></a>"
      ]
    },
    {
      "cell_type": "markdown",
      "source": [
        "# Praktikum 01 - Perulangan For dengan Range"
      ],
      "metadata": {
        "id": "45NCqK157PKh"
      }
    },
    {
      "cell_type": "code",
      "execution_count": null,
      "metadata": {
        "colab": {
          "base_uri": "https://localhost:8080/"
        },
        "id": "-SUDMNf15-ez",
        "outputId": "9172adfd-ff6b-4250-cfae-a704a1e819c5"
      },
      "outputs": [
        {
          "output_type": "stream",
          "name": "stdout",
          "text": [
            "1\n",
            "2\n",
            "3\n",
            "4\n",
            "5\n"
          ]
        }
      ],
      "source": [
        "for x in range(1, 6):\n",
        "  print(x)"
      ]
    },
    {
      "cell_type": "markdown",
      "source": [
        "# Praktikum 02 - While (Hitung Mundur)"
      ],
      "metadata": {
        "id": "sgXcuBU6AM9D"
      }
    },
    {
      "cell_type": "code",
      "source": [
        "n = 5\n",
        "while n > 0:\n",
        "  print(n)\n",
        "  n -= 1"
      ],
      "metadata": {
        "colab": {
          "base_uri": "https://localhost:8080/"
        },
        "id": "igpiyVg3AQkf",
        "outputId": "aed47c80-39e7-4884-f19d-e4214c2d5e9f"
      },
      "execution_count": null,
      "outputs": [
        {
          "output_type": "stream",
          "name": "stdout",
          "text": [
            "5\n",
            "4\n",
            "3\n",
            "2\n",
            "1\n"
          ]
        }
      ]
    },
    {
      "cell_type": "markdown",
      "source": [
        "# Praktikum 03 - Nested Loop (Segitiga Bintang)"
      ],
      "metadata": {
        "id": "5CawIOoLATwE"
      }
    },
    {
      "cell_type": "code",
      "source": [
        "for i in range(1, 6):\n",
        "  for j in range(i):\n",
        "      print(\"*\", end=\"\")\n",
        "  print()"
      ],
      "metadata": {
        "colab": {
          "base_uri": "https://localhost:8080/"
        },
        "id": "VRXiX242AWgQ",
        "outputId": "088e7672-7ad1-4b86-84fc-618392407e53"
      },
      "execution_count": null,
      "outputs": [
        {
          "output_type": "stream",
          "name": "stdout",
          "text": [
            "*\n",
            "**\n",
            "***\n",
            "****\n",
            "*****\n"
          ]
        }
      ]
    },
    {
      "cell_type": "markdown",
      "source": [
        "## Praktikum 04 - Break"
      ],
      "metadata": {
        "id": "gtnhnxV7Alrk"
      }
    },
    {
      "cell_type": "code",
      "source": [
        "for i in range(1, 15):\n",
        "  print(i)\n",
        "  if i == 10:\n",
        "    print(\"Angka 10 ditemukan\")\n",
        "    break"
      ],
      "metadata": {
        "colab": {
          "base_uri": "https://localhost:8080/"
        },
        "id": "fAxhmmzCAsRw",
        "outputId": "0a51883e-d042-4700-dd8d-548d32fe6441"
      },
      "execution_count": null,
      "outputs": [
        {
          "output_type": "stream",
          "name": "stdout",
          "text": [
            "1\n",
            "2\n",
            "3\n",
            "4\n",
            "5\n",
            "6\n",
            "7\n",
            "8\n",
            "9\n",
            "10\n",
            "Angka 10 ditemukan\n"
          ]
        }
      ]
    },
    {
      "cell_type": "markdown",
      "source": [
        "# Praktikum 04 - Continue"
      ],
      "metadata": {
        "id": "4MrXW67uAu3J"
      }
    },
    {
      "cell_type": "code",
      "source": [
        "for i in range(1, 6):\n",
        "  if i % 2 == 1:\n",
        "    continue\n",
        "  print(i)"
      ],
      "metadata": {
        "colab": {
          "base_uri": "https://localhost:8080/"
        },
        "id": "fReegWXkAzr3",
        "outputId": "9dbd4f49-4a00-4251-cd05-27c8b58c55ce"
      },
      "execution_count": null,
      "outputs": [
        {
          "output_type": "stream",
          "name": "stdout",
          "text": [
            "2\n",
            "4\n"
          ]
        }
      ]
    },
    {
      "cell_type": "markdown",
      "source": [
        "# Praktikum 05 - For pada Dictionary"
      ],
      "metadata": {
        "id": "ev6FLrV0A99o"
      }
    },
    {
      "cell_type": "code",
      "source": [
        "data = {\"Nama\": \"Andi\", \"Umur\": 20, \"Prodi\": \"TRK\"}\n",
        "\n",
        "for k, v in data.items():\n",
        "  print(k, \":\", v)"
      ],
      "metadata": {
        "colab": {
          "base_uri": "https://localhost:8080/"
        },
        "id": "pgcqQbANBA0x",
        "outputId": "040b70eb-d5ca-4a18-b343-9ba84eb43877"
      },
      "execution_count": null,
      "outputs": [
        {
          "output_type": "stream",
          "name": "stdout",
          "text": [
            "Nama : Andi\n",
            "Umur : 20\n",
            "Prodi : TRK\n"
          ]
        }
      ]
    },
    {
      "cell_type": "markdown",
      "source": [
        "# Praktikum 06 - For dengan Enumerate"
      ],
      "metadata": {
        "id": "wqZLZmSQBHP1"
      }
    },
    {
      "cell_type": "code",
      "source": [
        "daftar = [\"Andi\", \"Budi\", \"Cici\"]\n",
        "\n",
        "for i, nama in enumerate(daftar, start=1):\n",
        "  print(i, nama)"
      ],
      "metadata": {
        "colab": {
          "base_uri": "https://localhost:8080/"
        },
        "id": "9hB9O6qeBKXH",
        "outputId": "faef4157-5d37-4c59-dd7f-87a368215179"
      },
      "execution_count": null,
      "outputs": [
        {
          "output_type": "stream",
          "name": "stdout",
          "text": [
            "1 Andi\n",
            "2 Budi\n",
            "3 Cici\n"
          ]
        }
      ]
    },
    {
      "cell_type": "markdown",
      "source": [
        "# Praktikum 07 - Studi Kasus: Program Kasir Multi-Item"
      ],
      "metadata": {
        "id": "cCMEqlJrBPyU"
      }
    },
    {
      "cell_type": "code",
      "source": [
        "total = 0\n",
        "\n",
        "while True:\n",
        "  barang = input(\"Masukkan nama barang (ketik 'selesai' untuk berhenti): \")\n",
        "  if barang.lower() == \"selesai\":\n",
        "    break\n",
        "  harga = float(input(f\"Masukkan harga {barang}: \"))\n",
        "  jumlah = int(input(f\"Masukkan jumlah {barang}: \"))\n",
        "  subtotal = harga * jumlah\n",
        "  total += subtotal\n",
        "\n",
        "print(\"\\n===== Struk Belanja =====\")\n",
        "print(f\"Total Belanja : Rp {total}\")"
      ],
      "metadata": {
        "colab": {
          "base_uri": "https://localhost:8080/"
        },
        "id": "MsGRmidjBcY6",
        "outputId": "811488aa-43d9-4599-de8c-9efb0fe48319"
      },
      "execution_count": null,
      "outputs": [
        {
          "output_type": "stream",
          "name": "stdout",
          "text": [
            "Masukkan nama barang (ketik 'selesai' untuk berhenti): Buku\n",
            "Masukkan harga Buku: 50000\n",
            "Masukkan jumlah Buku: 2\n",
            "Masukkan nama barang (ketik 'selesai' untuk berhenti): Pulpen\n",
            "Masukkan harga Pulpen: 5000\n",
            "Masukkan jumlah Pulpen: 3\n",
            "Masukkan nama barang (ketik 'selesai' untuk berhenti): selesai\n",
            "\n",
            "===== Struk Belanja =====\n",
            "Total Belanja : Rp 115000.0\n"
          ]
        }
      ]
    },
    {
      "cell_type": "markdown",
      "source": [
        "# Penugasan 01 - Menampilkan Deret Angka"
      ],
      "metadata": {
        "id": "KDOEBdKCCALI"
      }
    },
    {
      "cell_type": "code",
      "source": [
        "for x in range(3, 33, 3):\n",
        "  print(x)\n"
      ],
      "metadata": {
        "colab": {
          "base_uri": "https://localhost:8080/"
        },
        "id": "Hjg4nTJMB_Wh",
        "outputId": "4fb7dd8a-2123-4d5e-b4b3-65b8e9cd90dc"
      },
      "execution_count": null,
      "outputs": [
        {
          "output_type": "stream",
          "name": "stdout",
          "text": [
            "3\n",
            "6\n",
            "9\n",
            "12\n",
            "15\n",
            "18\n",
            "21\n",
            "24\n",
            "27\n",
            "30\n"
          ]
        }
      ]
    },
    {
      "cell_type": "markdown",
      "source": [
        "# Penugasan 02 - Hitung Faktorial"
      ],
      "metadata": {
        "id": "p0219Q1SCpOk"
      }
    },
    {
      "cell_type": "code",
      "source": [
        "a = int(input(\"Masukkan angka yang ingin dibuat faktorial: \"))\n",
        "faktorial = 1\n",
        "i = 1\n",
        "\n",
        "while i <= a:\n",
        "  faktorial *= i\n",
        "  i += 1\n",
        "print(f\"Faktorial dari {a} adalah {faktorial}\")"
      ],
      "metadata": {
        "colab": {
          "base_uri": "https://localhost:8080/"
        },
        "id": "twfs-kxQCwJV",
        "outputId": "8e2fd142-8740-406a-e27e-52aba1a3fb29"
      },
      "execution_count": null,
      "outputs": [
        {
          "output_type": "stream",
          "name": "stdout",
          "text": [
            "Masukkan angka yang ingin dibuat faktorial: 7\n",
            "Faktorial dari 7 adalah 5040\n"
          ]
        }
      ]
    },
    {
      "cell_type": "markdown",
      "source": [
        "# Penugasan 03 - Pola Segitiga Terbalik"
      ],
      "metadata": {
        "id": "3QE2VueBDUaA"
      }
    },
    {
      "cell_type": "code",
      "source": [
        "tinggi = 5\n",
        "\n",
        "for i in range(5):\n",
        "    for j in range(5 - i):\n",
        "        print(\"*\", end=\"\")\n",
        "\n",
        "    print()"
      ],
      "metadata": {
        "colab": {
          "base_uri": "https://localhost:8080/"
        },
        "id": "GzZdLgY3EAIA",
        "outputId": "8aa34252-0388-4280-b955-79e7a27aaef1"
      },
      "execution_count": null,
      "outputs": [
        {
          "output_type": "stream",
          "name": "stdout",
          "text": [
            "*****\n",
            "****\n",
            "***\n",
            "**\n",
            "*\n"
          ]
        }
      ]
    },
    {
      "cell_type": "markdown",
      "source": [
        "# Penugasan 04 - Cari Bilangan Prima dengan Break"
      ],
      "metadata": {
        "id": "j3KxYWgIDcaY"
      }
    },
    {
      "cell_type": "code",
      "source": [
        "angka = int(input(\"Masukkan angka untuk mengecek bilangan prima: \"))\n",
        "\n",
        "if angka > 1:\n",
        "  for i in range(2, angka):\n",
        "    if angka % i == 0:\n",
        "      print(\"Bukan bilangan prima\")\n",
        "      break\n",
        "  else:\n",
        "    print(angka, \"Merupakan bilangan prima\")\n",
        "\n",
        "else:\n",
        "  print(\"Bukan bilangan prima\")"
      ],
      "metadata": {
        "colab": {
          "base_uri": "https://localhost:8080/"
        },
        "id": "N_LL82icEAlE",
        "outputId": "0a628145-622c-4485-ff81-8b55c1e7e852"
      },
      "execution_count": null,
      "outputs": [
        {
          "output_type": "stream",
          "name": "stdout",
          "text": [
            "Masukkan angka untuk mengecek bilangan prima: 7\n",
            "7 Merupakan bilangan prima\n"
          ]
        }
      ]
    },
    {
      "cell_type": "markdown",
      "source": [
        "# Penugasan 05 - Tampilkan Hanya Bilangan Genap dengan Continue"
      ],
      "metadata": {
        "id": "Yjg69lajDhsP"
      }
    },
    {
      "cell_type": "code",
      "source": [
        "for i in range(1, 21):\n",
        "  if i % 2 == 1:\n",
        "    continue\n",
        "  print(i)"
      ],
      "metadata": {
        "colab": {
          "base_uri": "https://localhost:8080/"
        },
        "id": "ZgFTR9qyEBww",
        "outputId": "97c2680d-a7a2-45ae-9947-af8e80bf6c68"
      },
      "execution_count": null,
      "outputs": [
        {
          "output_type": "stream",
          "name": "stdout",
          "text": [
            "2\n",
            "4\n",
            "6\n",
            "8\n",
            "10\n",
            "12\n",
            "14\n",
            "16\n",
            "18\n",
            "20\n"
          ]
        }
      ]
    },
    {
      "cell_type": "markdown",
      "source": [
        "# Penugasan 06 - Iterasi Dictionary Mahasiswa"
      ],
      "metadata": {
        "id": "4CTknx8sDq4H"
      }
    },
    {
      "cell_type": "code",
      "source": [
        "data = {\"Nama\": \"Budi\", \"Umur\": 21, \"Prodi\": \"Teknik Komputer\"}\n",
        "\n",
        "for k, v in data.items():\n",
        "  print(k, \":\", v)"
      ],
      "metadata": {
        "colab": {
          "base_uri": "https://localhost:8080/"
        },
        "id": "ney0qYxDECNi",
        "outputId": "4dda77ac-2392-4da0-ea58-599c2eb0945b"
      },
      "execution_count": null,
      "outputs": [
        {
          "output_type": "stream",
          "name": "stdout",
          "text": [
            "Nama : Budi\n",
            "Umur : 21\n",
            "Prodi : Teknik Komputer\n"
          ]
        }
      ]
    },
    {
      "cell_type": "markdown",
      "source": [
        "# Penugasan 07 - Enumerate Daftar Barang"
      ],
      "metadata": {
        "id": "ACegawYqDy2O"
      }
    },
    {
      "cell_type": "code",
      "source": [
        "daftar = [\"Buku\", \"Pulpen\", \"Tas\"]\n",
        "\n",
        "for i, nama in enumerate(daftar, start=1):\n",
        "  print(i, nama)"
      ],
      "metadata": {
        "colab": {
          "base_uri": "https://localhost:8080/"
        },
        "id": "v7oC6HQQECis",
        "outputId": "00a11a7f-e35b-4066-b7ee-c34d9f2f2df8"
      },
      "execution_count": null,
      "outputs": [
        {
          "output_type": "stream",
          "name": "stdout",
          "text": [
            "1 Buku\n",
            "2 Pulpen\n",
            "3 Tas\n"
          ]
        }
      ]
    },
    {
      "cell_type": "markdown",
      "source": [
        "# Penugasan 08 - Studi Kasus - Kasir Diskon"
      ],
      "metadata": {
        "id": "ao5vrdsOD6XT"
      }
    },
    {
      "cell_type": "code",
      "source": [
        "total = 0\n",
        "\n",
        "while True:\n",
        "  barang = input(\"Masukkan nama barang (Ketik 'selesai' untuk berhenti): \")\n",
        "  if barang.lower() == \"selesai\":\n",
        "    break\n",
        "  harga = float(input(f\"Masukkan harga {barang}: \"))\n",
        "  jumlah = int(input(f\"Masukkan jumlah {barang}: \"))\n",
        "  subtotal = harga * jumlah\n",
        "  total += subtotal\n",
        "  if total >= 200000:\n",
        "    diskon = 0.1\n",
        "  else:\n",
        "    diskon = 0\n",
        "  a_diskon = total - (total * diskon)\n",
        "\n",
        "\n",
        "print(\"\\n===== STRUK =====\")\n",
        "print(f\"\\nSebelum diskon: {total}\")\n",
        "print(f\"Diskon: {diskon* 100} %\")\n",
        "print(f\"Bayar: {a_diskon}\")\n",
        "print(\"\\n=================\")"
      ],
      "metadata": {
        "colab": {
          "base_uri": "https://localhost:8080/"
        },
        "id": "qRLStTn_EDSC",
        "outputId": "2fca08de-60e0-4ca8-ab43-d575c97ebc64"
      },
      "execution_count": null,
      "outputs": [
        {
          "output_type": "stream",
          "name": "stdout",
          "text": [
            "Masukkan nama barang (Ketik 'selesai' untuk berhenti): Sepatu\n",
            "Masukkan harga Sepatu: 470000\n",
            "Masukkan jumlah Sepatu: 1\n",
            "Masukkan nama barang (Ketik 'selesai' untuk berhenti): Sandal\n",
            "Masukkan harga Sandal: 40000\n",
            "Masukkan jumlah Sandal: 2\n",
            "Masukkan nama barang (Ketik 'selesai' untuk berhenti): selesai\n",
            "\n",
            "===== STRUK =====\n",
            "\n",
            "Sebelum diskon: 550000.0\n",
            "Diskon: 10.0 %\n",
            "Bayar: 495000.0\n",
            "\n",
            "=================\n"
          ]
        }
      ]
    }
  ]
}