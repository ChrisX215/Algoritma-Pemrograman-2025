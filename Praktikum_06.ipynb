{
  "nbformat": 4,
  "nbformat_minor": 0,
  "metadata": {
    "colab": {
      "provenance": [],
      "authorship_tag": "ABX9TyOhQBvdRJLx8mIegldH2d7z",
      "include_colab_link": true
    },
    "kernelspec": {
      "name": "python3",
      "display_name": "Python 3"
    },
    "language_info": {
      "name": "python"
    }
  },
  "cells": [
    {
      "cell_type": "markdown",
      "metadata": {
        "id": "view-in-github",
        "colab_type": "text"
      },
      "source": [
        "<a href=\"https://colab.research.google.com/github/ChrisX215/Algoritma-Pemrograman-2025/blob/main/Praktikum_06.ipynb\" target=\"_parent\"><img src=\"https://colab.research.google.com/assets/colab-badge.svg\" alt=\"Open In Colab\"/></a>"
      ]
    },
    {
      "cell_type": "markdown",
      "source": [
        "# Praktikum 01 - Membuat dan Mengakses List 1D"
      ],
      "metadata": {
        "id": "lRiIcCKOSlJH"
      }
    },
    {
      "cell_type": "code",
      "execution_count": null,
      "metadata": {
        "colab": {
          "base_uri": "https://localhost:8080/"
        },
        "id": "g9M7ACYpDQdq",
        "outputId": "73503fbe-c04c-44a2-88e6-9f42ebff390f"
      },
      "outputs": [
        {
          "output_type": "stream",
          "name": "stdout",
          "text": [
            "Andi\n",
            "Budi\n",
            "Cici\n"
          ]
        }
      ],
      "source": [
        "mahasiswa = [\"Andi\", \"Budi\", \"Cici\"]\n",
        "print(mahasiswa[0])     # Andi\n",
        "print(mahasiswa[1])     # Budi\n",
        "print(mahasiswa[-1])    # Cici\n"
      ]
    },
    {
      "cell_type": "markdown",
      "source": [
        "# Praktikum 02 - Update dan Operasi Dasar List"
      ],
      "metadata": {
        "id": "Mkz5hD2NTUSH"
      }
    },
    {
      "cell_type": "code",
      "source": [
        "nilai = [85, 90, 78]\n",
        "nilai[1] = 95\n",
        "nilai.append(100)\n",
        "nilai.remove(78)\n",
        "print(nilai)"
      ],
      "metadata": {
        "colab": {
          "base_uri": "https://localhost:8080/"
        },
        "id": "nQo1tPHBTKLC",
        "outputId": "6a3e1a53-af6f-4f67-b3a8-bea20fa57112"
      },
      "execution_count": null,
      "outputs": [
        {
          "output_type": "stream",
          "name": "stdout",
          "text": [
            "[85, 95, 100]\n"
          ]
        }
      ]
    },
    {
      "cell_type": "markdown",
      "source": [
        "# Praktikum 03 - Slicing List\n"
      ],
      "metadata": {
        "id": "6F7IXFeYUN6X"
      }
    },
    {
      "cell_type": "code",
      "source": [
        "nilai = [85, 90, 78, 92, 88]\n",
        "print(nilai[0:3])    # [85, 90, 78]\n",
        "print(nilai[2:1])    # [78, 92, 88]\n",
        "print(nilai[:3])     # [85, 90, 78]"
      ],
      "metadata": {
        "colab": {
          "base_uri": "https://localhost:8080/"
        },
        "id": "4oIz0O-qUHQp",
        "outputId": "10ae6516-38f5-4693-e670-ba92753cbae6"
      },
      "execution_count": null,
      "outputs": [
        {
          "output_type": "stream",
          "name": "stdout",
          "text": [
            "[85, 90, 78]\n",
            "[]\n",
            "[85, 90, 78]\n"
          ]
        }
      ]
    },
    {
      "cell_type": "markdown",
      "source": [
        "# Praktikum 04 - List 2D (Matriks)"
      ],
      "metadata": {
        "id": "vt_XNc3_U_VJ"
      }
    },
    {
      "cell_type": "code",
      "source": [
        "matriks = [\n",
        "    [1, 2, 3],\n",
        "    [4, 5, 6],\n",
        "    [7, 8, 9]\n",
        "]\n",
        "\n",
        "print(matriks[0][0])   # 1\n",
        "print(matriks[1][2])   # 6\n",
        "print(matriks[2])      # [7, 8, 9]"
      ],
      "metadata": {
        "colab": {
          "base_uri": "https://localhost:8080/"
        },
        "id": "8B3niTACVhVp",
        "outputId": "f3259a6e-6ec0-4cde-c92b-ec939e69fa55"
      },
      "execution_count": null,
      "outputs": [
        {
          "output_type": "stream",
          "name": "stdout",
          "text": [
            "1\n",
            "6\n",
            "[7, 8, 9]\n"
          ]
        }
      ]
    },
    {
      "cell_type": "markdown",
      "source": [
        "# Praktikum 05 - Operasi pada List 2D"
      ],
      "metadata": {
        "id": "EoENRnhsXH-G"
      }
    },
    {
      "cell_type": "code",
      "source": [
        "A = [[1, 2, 3], [4, 5, 6]]\n",
        "B = [[7, 8, 9], [10, 11, 12]]\n",
        "C = []\n",
        "\n",
        "for i in range(len(A)):\n",
        "     baris = []\n",
        "     for j in range(len(A[0])):\n",
        "         baris.append(A[i][j] + B[i][j])\n",
        "     C.append(baris)\n",
        "\n",
        "print(C)"
      ],
      "metadata": {
        "id": "4Q70bfJzWzO-",
        "colab": {
          "base_uri": "https://localhost:8080/"
        },
        "outputId": "4d5c6f16-0f47-49dc-8588-9f105e74f2a7"
      },
      "execution_count": 1,
      "outputs": [
        {
          "output_type": "stream",
          "name": "stdout",
          "text": [
            "[[8, 10, 12], [14, 16, 18]]\n"
          ]
        }
      ]
    },
    {
      "cell_type": "markdown",
      "source": [
        "# Praktikum 06 - Studi Kasus: Pengelolaan Nilai Mahasiswa"
      ],
      "metadata": {
        "id": "nlDtnfQdrT2Z"
      }
    },
    {
      "cell_type": "code",
      "source": [
        "nilai = [\n",
        "    [80, 90, 85],\n",
        "    [70, 75, 80],\n",
        "    [88, 92, 84]\n",
        "    ]\n",
        "for i, baris in enumerate (nilai, start=1):\n",
        "  rata = sum(baris) / len(baris)\n",
        "  print(f\"Rata-rata nilai mahasiswa {i} adalah {rata:.2f}\")"
      ],
      "metadata": {
        "id": "6R5LGX1GX5X_",
        "colab": {
          "base_uri": "https://localhost:8080/"
        },
        "outputId": "9a6df282-21e1-40d8-e161-ef2ad343ecff"
      },
      "execution_count": 2,
      "outputs": [
        {
          "output_type": "stream",
          "name": "stdout",
          "text": [
            "Rata-rata nilai mahasiswa 1 adalah 85.00\n",
            "Rata-rata nilai mahasiswa 2 adalah 75.00\n",
            "Rata-rata nilai mahasiswa 3 adalah 88.00\n"
          ]
        }
      ]
    },
    {
      "cell_type": "markdown",
      "source": [
        "# Penugasan 01 - Akses Elemen List"
      ],
      "metadata": {
        "id": "LeesIrXWtkSc"
      }
    },
    {
      "cell_type": "code",
      "source": [
        "mahasiswa = [\"Christyan\", \"Fabiano\", \"Yehezkiel\", \"Abi\", \"Aziz\"]\n",
        "print(\"Nama pertama:\", mahasiswa[0])\n",
        "print(\"Nama terakhir:\", mahasiswa[-1])\n",
        "print(\"Nama pada indeks ke-2:\", mahasiswa[2])"
      ],
      "metadata": {
        "colab": {
          "base_uri": "https://localhost:8080/"
        },
        "id": "zLYXy9m3tl8O",
        "outputId": "30a1585e-0ac9-42ae-9900-b918396533ef"
      },
      "execution_count": 3,
      "outputs": [
        {
          "output_type": "stream",
          "name": "stdout",
          "text": [
            "Nama pertama: Christyan\n",
            "Nama terakhir: Aziz\n",
            "Nama pada indeks ke-2: Yehezkiel\n"
          ]
        }
      ]
    },
    {
      "cell_type": "markdown",
      "source": [
        "# Penugasan 02 - Operasi Dasar List"
      ],
      "metadata": {
        "id": "kIVyfAuot6Bi"
      }
    },
    {
      "cell_type": "code",
      "source": [
        "nilai = [70, 75, 80]\n",
        "nilai[1] = 85\n",
        "nilai.append(90)\n",
        "nilai.remove(70)\n",
        "print(\"Hasil akhir:\", nilai)"
      ],
      "metadata": {
        "colab": {
          "base_uri": "https://localhost:8080/"
        },
        "id": "9jTaTqS5uARa",
        "outputId": "74e3d8ab-a3e3-4840-e9bd-547b89b0d372"
      },
      "execution_count": 5,
      "outputs": [
        {
          "output_type": "stream",
          "name": "stdout",
          "text": [
            "Hasil akhir: [85, 80, 90]\n"
          ]
        }
      ]
    },
    {
      "cell_type": "markdown",
      "source": [
        "# Penugasan 03 - Slicing List"
      ],
      "metadata": {
        "id": "ncXfWIwquagd"
      }
    },
    {
      "cell_type": "code",
      "source": [
        "angka = [1, 2, 3, 4, 5, 6, 7, 8, 9, 10]\n",
        "print(\"3 elemen pertama:\", angka[:3])\n",
        "print(\"4 elemen terakhir:\", angka[-4:])\n",
        "print(\"Elemen dengan indeks genap:\", angka[::2])"
      ],
      "metadata": {
        "colab": {
          "base_uri": "https://localhost:8080/"
        },
        "id": "Ag8zoH3fuhU0",
        "outputId": "62c8eb15-696f-4b65-c15e-7e3113bf266a"
      },
      "execution_count": 4,
      "outputs": [
        {
          "output_type": "stream",
          "name": "stdout",
          "text": [
            "3 elemen pertama: [1, 2, 3]\n",
            "4 elemen terakhir: [7, 8, 9, 10]\n",
            "Elemen dengan indeks genap: [1, 3, 5, 7, 9]\n"
          ]
        }
      ]
    },
    {
      "cell_type": "markdown",
      "source": [
        "# Penugasan 04 - List 2D – Matriks"
      ],
      "metadata": {
        "id": "rW5ek3LwumUI"
      }
    },
    {
      "cell_type": "code",
      "source": [
        "matriks = [\n",
        "    [1, 2, 3],\n",
        "    [4, 5, 6]\n",
        "]\n",
        "\n",
        "print(matriks[0][1])\n",
        "print(matriks[1][2])\n",
        "print(matriks[0])"
      ],
      "metadata": {
        "colab": {
          "base_uri": "https://localhost:8080/"
        },
        "id": "ASSUctTxutNH",
        "outputId": "f24eec3b-894e-4655-f1ff-03d3ac42cc47"
      },
      "execution_count": 7,
      "outputs": [
        {
          "output_type": "stream",
          "name": "stdout",
          "text": [
            "2\n",
            "6\n",
            "[1, 2, 3]\n"
          ]
        }
      ]
    },
    {
      "cell_type": "markdown",
      "source": [
        "# Penugasan 05 - Operasi Matriks 2D"
      ],
      "metadata": {
        "id": "C1-x9Pu2ux04"
      }
    },
    {
      "cell_type": "code",
      "source": [
        "matriks_a = [[2, 4, 6], [8, 10, 12]]\n",
        "matriks_b = [[14, 16, 18], [20, 22, 24]]\n",
        "matriks_c = []\n",
        "\n",
        "for i in range(len(matriks_a)):\n",
        "  baris = []\n",
        "  for j in range (len(matriks_a[0])):\n",
        "    baris.append(matriks_a[i][j] + matriks_b[i][j])\n",
        "  matriks_c.append(baris)\n",
        "\n",
        "print(matriks_c)"
      ],
      "metadata": {
        "colab": {
          "base_uri": "https://localhost:8080/"
        },
        "id": "dJSW4xCTu1Mf",
        "outputId": "0a24cc70-d438-45f3-d5f1-a0cf376523a7"
      },
      "execution_count": 6,
      "outputs": [
        {
          "output_type": "stream",
          "name": "stdout",
          "text": [
            "[[16, 20, 24], [28, 32, 36]]\n"
          ]
        }
      ]
    },
    {
      "cell_type": "markdown",
      "source": [
        "# Penugasan 06 - Rata-rata Nilai Mahasiswa"
      ],
      "metadata": {
        "id": "Vf27pp3evdVt"
      }
    },
    {
      "cell_type": "code",
      "source": [
        "nilai = [\n",
        "    [75, 80, 85],\n",
        "    [60, 70, 65],\n",
        "    [90, 95, 92]\n",
        "]\n",
        "\n",
        "for i in range(len(nilai)):\n",
        "    rata = sum(nilai[i]) / len(nilai[i])\n",
        "    print(\"Rata-rata mahasiswa\", i+1, \"=\", rata)"
      ],
      "metadata": {
        "id": "O2SnRY2Lveuo"
      },
      "execution_count": null,
      "outputs": []
    },
    {
      "cell_type": "markdown",
      "source": [
        "# Penugasan 07 - Studi Kasus – Data Toko"
      ],
      "metadata": {
        "id": "6JRX62cAvoBO"
      }
    },
    {
      "cell_type": "code",
      "source": [
        "stok = [\n",
        "    [\"Buku\", 20],\n",
        "    [\"Pulpen\", 35],\n",
        "    [\"Penghapus\", 15]\n",
        "]\n",
        "\n",
        "for barang in stok:\n",
        "    print(barang[0], \":\", barang[1])\n",
        "\n",
        "terbanyak = stok[0]\n",
        "for barang in stok:\n",
        "    if barang[1] > terbanyak[1]:\n",
        "        terbanyak = barang\n",
        "\n",
        "print(\"Barang dengan stok terbanyak:\", terbanyak[0], \"=\", terbanyak[1])"
      ],
      "metadata": {
        "colab": {
          "base_uri": "https://localhost:8080/"
        },
        "id": "l2FS0NhCvwVQ",
        "outputId": "c1363ac8-904c-4947-b9af-d0b21921fbc7"
      },
      "execution_count": 8,
      "outputs": [
        {
          "output_type": "stream",
          "name": "stdout",
          "text": [
            "Buku : 20\n",
            "Pulpen : 35\n",
            "Penghapus : 15\n",
            "Barang dengan stok terbanyak: Pulpen = 35\n"
          ]
        }
      ]
    }
  ]
}