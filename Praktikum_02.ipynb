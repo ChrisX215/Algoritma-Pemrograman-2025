{
  "nbformat": 4,
  "nbformat_minor": 0,
  "metadata": {
    "colab": {
      "provenance": [],
      "authorship_tag": "ABX9TyOGcwWp1c6xUDn4haQ1iE/A",
      "include_colab_link": true
    },
    "kernelspec": {
      "name": "python3",
      "display_name": "Python 3"
    },
    "language_info": {
      "name": "python"
    }
  },
  "cells": [
    {
      "cell_type": "markdown",
      "metadata": {
        "id": "view-in-github",
        "colab_type": "text"
      },
      "source": [
        "<a href=\"https://colab.research.google.com/github/ChrisX215/Algoritma-Pemrograman-2025/blob/main/Praktikum_02.ipynb\" target=\"_parent\"><img src=\"https://colab.research.google.com/assets/colab-badge.svg\" alt=\"Open In Colab\"/></a>"
      ]
    },
    {
      "cell_type": "markdown",
      "source": [
        "# Praktikum 01 – Pengenalan Variabel dan Tipe Data"
      ],
      "metadata": {
        "id": "n8MSBlxNuu5g"
      }
    },
    {
      "cell_type": "code",
      "execution_count": 2,
      "metadata": {
        "colab": {
          "base_uri": "https://localhost:8080/"
        },
        "id": "b3TdSxp1tzYM",
        "outputId": "2af9f6d4-5fe2-469a-8c89-679ca566af0f"
      },
      "outputs": [
        {
          "output_type": "stream",
          "name": "stdout",
          "text": [
            "Umur: 20 -> <class 'int'>\n",
            "Tinggi: 170.5 -> <class 'float'>\n",
            "Nama: Andi -> <class 'str'>\n",
            "Status Mahasiswa: True -> <class 'bool'>\n",
            "Nilai: [80, 85, 90] → <class 'list'>\n",
            "Koordinat: (10, 20) → <class 'tuple'>\n",
            "Data Mahasiswa: {'nama': 'Andi', 'umur': 20, 'prodi': 'TRK'} → <class 'dict'>\n",
            "Hobi: {'olahraga', 'membaca', 'musik'} → <class 'set'>\n"
          ]
        }
      ],
      "source": [
        "# integer\n",
        "umur = 20\n",
        "print (\"Umur:\", umur, \"->\", type(umur))\n",
        "\n",
        "# Float\n",
        "tinggi = 170.5\n",
        "print(\"Tinggi:\", tinggi, \"->\", type(tinggi))\n",
        "\n",
        "# String\n",
        "nama = \"Andi\"\n",
        "print(\"Nama:\", nama, \"->\", type(nama))\n",
        "\n",
        "# Boolean\n",
        "is_mahasiswa = True\n",
        "print(\"Status Mahasiswa:\", is_mahasiswa, \"->\", type(is_mahasiswa))\n",
        "\n",
        "# List\n",
        "nilai = [80, 85, 90]\n",
        "print(\"Nilai:\", nilai, \"→\", type(nilai))\n",
        "\n",
        "# Tuple\n",
        "koordinat = (10, 20)\n",
        "print(\"Koordinat:\", koordinat, \"→\", type(koordinat))\n",
        "\n",
        "# Dictionary\n",
        "mahasiswa = {\"nama\": \"Andi\", \"umur\": 20, \"prodi\": \"TRK\"}\n",
        "print(\"Data Mahasiswa:\", mahasiswa, \"→\", type(mahasiswa))\n",
        "\n",
        "# Set\n",
        "hobi = {\"membaca\", \"olahraga\", \"musik\"}\n",
        "print(\"Hobi:\", hobi, \"→\", type(hobi))\n"
      ]
    },
    {
      "cell_type": "markdown",
      "source": [
        "# Praktikum 02 – Input dan Output Dasar"
      ],
      "metadata": {
        "id": "GzIeLXpmwyQP"
      }
    },
    {
      "cell_type": "code",
      "source": [
        "# Input string\n",
        "nama = input(\"Masukkan nama anda: \")\n",
        "print()\n",
        "\n",
        "# Input integer\n",
        "umur = int(input(\"Masukkan umur anda: \"))\n",
        "print()\n",
        "\n",
        "# Input float\n",
        "tinggi = float(input(\"Masukkan tinggi badan anda (cm): \"))\n",
        "print()\n",
        "\n",
        "# Output standar\n",
        "print(\"Halo\", nama, \"Umur anda:\", umur, \"Tinggi anda:\", tinggi, \"cm\")\n",
        "print()\n",
        "\n",
        "# Output dengan format ()\n",
        "print(\"Halo {0} Umur anda: {1} Tinggi anda: {2} cm\".format(nama, umur, tinggi))\n",
        "print()\n",
        "\n",
        "# Output dengan f-string\n",
        "print(f\"Halo {nama}, Umur anda: {umur}, Tinggi anda: {tinggi} cm\")\n",
        "print()"
      ],
      "metadata": {
        "colab": {
          "base_uri": "https://localhost:8080/"
        },
        "id": "pJwfJZBrwwCM",
        "outputId": "a9406b39-ad31-4838-95ff-8dadde629f3b"
      },
      "execution_count": 3,
      "outputs": [
        {
          "output_type": "stream",
          "name": "stdout",
          "text": [
            "Masukkan nama anda: Abi\n",
            "\n",
            "Masukkan umur anda: 18\n",
            "\n",
            "Masukkan tinggi badan anda (cm): 175\n",
            "\n",
            "Halo Abi Umur anda: 18 Tinggi anda: 175.0 cm\n",
            "\n",
            "Halo Abi Umur anda: 18 Tinggi anda: 175.0 cm\n",
            "\n",
            "Halo Abi, Umur anda: 18, Tinggi anda: 175.0 cm\n",
            "\n"
          ]
        }
      ]
    },
    {
      "cell_type": "markdown",
      "source": [
        "# Praktikum 03 – Operator Aritmatika"
      ],
      "metadata": {
        "id": "aaO7aE20xz8D"
      }
    },
    {
      "cell_type": "code",
      "source": [
        "a = 15\n",
        "b = 4\n",
        "\n",
        "print(\"a + b = \", a + b)\n",
        "print(\"a - b = \", a - b)\n",
        "print(\"a * b = \", a * b)\n",
        "print(\"a / b = \", a / b)\n",
        "print(\"a // b = \", a // b)\n",
        "print(\"a % b = \", a % b)\n",
        "print(\"a ** b = \", a ** b)"
      ],
      "metadata": {
        "colab": {
          "base_uri": "https://localhost:8080/"
        },
        "id": "TGw9aUcHx4Iy",
        "outputId": "72505f18-c9eb-414a-cca3-f8db8910c90a"
      },
      "execution_count": 5,
      "outputs": [
        {
          "output_type": "stream",
          "name": "stdout",
          "text": [
            "a + b =  19\n",
            "a - b =  11\n",
            "a * b =  60\n",
            "a / b =  3.75\n",
            "a // b =  3\n",
            "a % b =  3\n",
            "a ** b =  50625\n"
          ]
        }
      ]
    },
    {
      "cell_type": "markdown",
      "source": [
        "# Praktikum 04 – Operator Relasional"
      ],
      "metadata": {
        "id": "_m07q2AkzLo8"
      }
    },
    {
      "cell_type": "code",
      "source": [
        "x = 10\n",
        "y = 20\n",
        "\n",
        "\n",
        "print(\"x == y :\", x == y)\n",
        "print(\"x != y :\", x != y)\n",
        "print(\"x >= y :\", x >= y)\n",
        "print(\"x <= y :\", x <= y)\n",
        "print(\"x > y :\", x > y)\n",
        "print(\"x < y :\", x < y)\n"
      ],
      "metadata": {
        "colab": {
          "base_uri": "https://localhost:8080/"
        },
        "id": "M6IfbLcSzOhK",
        "outputId": "658af1bd-0fee-43b0-c143-e63769a97c47"
      },
      "execution_count": 11,
      "outputs": [
        {
          "output_type": "stream",
          "name": "stdout",
          "text": [
            "x == y : False\n",
            "x != y : True\n",
            "x >= y : False\n",
            "x <= y : True\n",
            "x > y : False\n",
            "x < y : True\n"
          ]
        }
      ]
    },
    {
      "cell_type": "markdown",
      "source": [
        "# Praktikum 05 – Operator Logika dengan Studi Kasus Nyata"
      ],
      "metadata": {
        "id": "OwN7ikdJ1LJ-"
      }
    },
    {
      "cell_type": "code",
      "source": [
        "# Operator logika dasar\n",
        "a = True\n",
        "b = False\n",
        "\n",
        "print(\"a and b =\", a and b)\n",
        "print(\"a or b =\", a or b)\n",
        "print(\"not a =\", not a)\n",
        "\n",
        "# Studi kasus nyata: kelulusan\n",
        "nilai = int(input(\"Masukkan nilai ujian: \"))\n",
        "hadir = int(input(\"Masukkan jumlah kehadiran: \"))\n",
        "\n",
        "lulus_nilai = nilai >= 60\n",
        "lulus_hadir = hadir >= 12 # dari 16 pertemuan\n",
        "\n",
        "if lulus_nilai and lulus_hadir:\n",
        "    print(\"Status: LULUS\")\n",
        "else:\n",
        "    print(\"Status: TIDAK LULUS\")"
      ],
      "metadata": {
        "colab": {
          "base_uri": "https://localhost:8080/"
        },
        "id": "Hy5JqnFM1Q5-",
        "outputId": "f820b355-eecf-4d3c-9d53-8620917c47ac"
      },
      "execution_count": 12,
      "outputs": [
        {
          "output_type": "stream",
          "name": "stdout",
          "text": [
            "a and b = False\n",
            "a or b = True\n",
            "not a = False\n",
            "Masukkan nilai ujian: 65\n",
            "Masukkan jumlah kehadiran: 15\n",
            "Status: LULUS\n"
          ]
        }
      ]
    },
    {
      "cell_type": "markdown",
      "source": [
        "# Praktikum 06 – Program Kasir Sederhana"
      ],
      "metadata": {
        "id": "QmjRQGm42g5q"
      }
    },
    {
      "cell_type": "code",
      "source": [
        "barang = input(\"Masukkan nama barang: \")\n",
        "harga = int(input(\"Masukkan harga barang: \"))\n",
        "jumlah = int(input(\"Masukkan kuantitas barang: \"))\n",
        "\n",
        "total = harga * jumlah\n",
        "\n",
        "# Aturan diskon\n",
        "if total >= 500000 :\n",
        "  diskon = 0.2\n",
        "elif total >= 250000 :\n",
        "  diskon = 0.1\n",
        "else :\n",
        "  diskon = 0\n",
        "\n",
        "potongan = total * diskon\n",
        "total_bayar = total - diskon\n",
        "\n",
        "print(\"\\n===== Struk Belanja =====\")\n",
        "print(f\"Barang : {barang}\")\n",
        "print(f\"Jumlah : {jumlah}\")\n",
        "print(f\"Total : Rp {total}\")\n",
        "print(f\"Diskon : {diskon * 100}%\")\n",
        "print(f\"Bayar : Rp {total_bayar}\")"
      ],
      "metadata": {
        "colab": {
          "base_uri": "https://localhost:8080/"
        },
        "id": "3ariyXlJ2kA4",
        "outputId": "5d8eb370-ef57-41c2-8715-e8c5aa917a9f"
      },
      "execution_count": 16,
      "outputs": [
        {
          "output_type": "stream",
          "name": "stdout",
          "text": [
            "Masukkan nama barang: Sepatu\n",
            "Masukkan harga barang: 2300000\n",
            "Masukkan kuantitas barang: 1\n",
            "\n",
            "===== Struk Belanja =====\n",
            "Barang : Sepatu\n",
            "Jumlah : 1\n",
            "Total : Rp 2300000\n",
            "Diskon : 20.0%\n",
            "Bayar : Rp 2299999.8\n"
          ]
        }
      ]
    },
    {
      "cell_type": "markdown",
      "source": [
        "# Penugasan 1 - Identitas Mahasiswa"
      ],
      "metadata": {
        "id": "n8E55-216FFW"
      }
    },
    {
      "cell_type": "code",
      "source": [
        "nama = input(\"Masukkan nama anda: \")\n",
        "umur = int(input(\"Masukkan umur anda: \"))\n",
        "tinggi = float(input(\"Masukkan tinggi anda: \"))\n",
        "status = True\n",
        "\n",
        "print(\"\")\n",
        "print(f\"Selamat Datang {nama} \\nUmur Anda Adalah {umur} tahun \\nTinggi Anda {tinggi} cm \\nStatus Mahasiswa {status}\")"
      ],
      "metadata": {
        "colab": {
          "base_uri": "https://localhost:8080/"
        },
        "id": "rNFW1hPl6LY6",
        "outputId": "c415f7fe-d56a-4f8b-bb6a-27ef0310656d"
      },
      "execution_count": 15,
      "outputs": [
        {
          "output_type": "stream",
          "name": "stdout",
          "text": [
            "Masukkan nama anda: Abi\n",
            "Masukkan umur anda: 18\n",
            "Masukkan tinggi anda: 175\n",
            "\n",
            "Selamat Datang Abi \n",
            "Umur Anda Adalah 18 tahun \n",
            "Tinggi Anda 175.0 cm \n",
            "Status Mahasiswa True\n"
          ]
        }
      ]
    },
    {
      "cell_type": "markdown",
      "source": [
        "# Penugasan 2 - Operasi Aritmatika"
      ],
      "metadata": {
        "id": "mE6qj7CR6hVM"
      }
    },
    {
      "cell_type": "code",
      "source": [
        "a = int(input(\"Angka pertama: \"))\n",
        "b = int(input(\"Angka kedua: \"))\n",
        "\n",
        "penjumlahan = int(a + b)\n",
        "pengurangan = int(a - b)\n",
        "perkalian = int(a * b)\n",
        "pembagian = int(a / b)\n",
        "sisa_bagi = int(a % b)\n",
        "pangkat = int(a ** b)\n",
        "\n",
        "print()\n",
        "print(f\"Penjumlahan {a} dan {b} adalah {penjumlahan}\")\n",
        "print()\n",
        "print(f\"pengurangan {a} dan {b} adalah {pengurangan}\")\n",
        "print()\n",
        "print(f\"Perkalian {a} dan {b} adalah {perkalian}\")\n",
        "print()\n",
        "print(f\"Pembagian {a} dan {b} adalah {pembagian}\")\n",
        "print()\n",
        "print(f\"Hasil dari sisa pembagian dari {a} dan {b} adalah {sisa_bagi}\")\n",
        "print()\n",
        "print(f\"Hasil perpangkatan {a} dan {b} adalah {pangkat}\")"
      ],
      "metadata": {
        "colab": {
          "base_uri": "https://localhost:8080/"
        },
        "id": "hrb4PJLB6kHO",
        "outputId": "b38ae25c-c450-4bf2-e3b5-24ba5854da5a"
      },
      "execution_count": 18,
      "outputs": [
        {
          "output_type": "stream",
          "name": "stdout",
          "text": [
            "Angka pertama: 21\n",
            "Angka kedua: 7\n",
            "\n",
            "Penjumlahan 21 dan 7 adalah 28\n",
            "\n",
            "pengurangan 21 dan 7 adalah 14\n",
            "\n",
            "Perkalian 21 dan 7 adalah 147\n",
            "\n",
            "Pembagian 21 dan 7 adalah 3\n",
            "\n",
            "Hasil dari sisa pembagian dari 21 dan 7 adalah 0\n",
            "\n",
            "Hasil perpangkatan 21 dan 7 adalah 1801088541\n"
          ]
        }
      ]
    },
    {
      "cell_type": "markdown",
      "source": [
        "# Penugasan 3 - Konversi nilai"
      ],
      "metadata": {
        "id": "JirmvnKq8QmV"
      }
    },
    {
      "cell_type": "code",
      "source": [
        "# Mengambil Input (float)\n",
        "nilai_float = float(input(\"Masukkan sebuah angka desimal (contoh: 75.836): \"))\n",
        "\n",
        "  # 1. Konversi float ke integer (menghilangkan desimal)\n",
        "nilai_integer = int(nilai_float)\n",
        "\n",
        "  # 2. Konversi float ke string (menjadi teks)\n",
        "nilai_string = str(nilai_float)\n",
        "\n",
        "  # 3. Pembulatan 2 digit di belakang koma\n",
        "nilai_bulat = round(nilai_float, 2)\n",
        "\n",
        "  # Menampilkan semua hasil dengan format yang rapi\n",
        "print(\"\\n---------- HASIL KONVERSI & PEMBULATAN ----------\")\n",
        "print(f\"Nilai Asli (float)      : {nilai_float}\")\n",
        "print(f\"Dikonversi ke Integer   : {nilai_integer}\")\n",
        "print(f\"Dikonversi ke String    : '{nilai_string}'\")\n",
        "print(f\"Dibulatkan (2 desimal)  : {nilai_bulat}\")\n",
        "print(\"-----------------------------------------------\")"
      ],
      "metadata": {
        "colab": {
          "base_uri": "https://localhost:8080/"
        },
        "id": "Ix7HLV6A8WMI",
        "outputId": "1e85ef0b-4ea0-4f78-81be-556d81cb1958"
      },
      "execution_count": 20,
      "outputs": [
        {
          "output_type": "stream",
          "name": "stdout",
          "text": [
            "Masukkan sebuah angka desimal (contoh: 75.836): 21.488\n",
            "\n",
            "---------- HASIL KONVERSI & PEMBULATAN ----------\n",
            "Nilai Asli (float)      : 21.488\n",
            "Dikonversi ke Integer   : 21\n",
            "Dikonversi ke String    : '21.488'\n",
            "Dibulatkan (2 desimal)  : 21.49\n",
            "-----------------------------------------------\n"
          ]
        }
      ]
    },
    {
      "cell_type": "markdown",
      "source": [
        "# Penugasan 4 - Operator Relasional"
      ],
      "metadata": {
        "id": "be0hTRcM9404"
      }
    },
    {
      "cell_type": "code",
      "source": [
        "a = float(input(\"Masukkan nilai a: \"))\n",
        "b = float(input(\"Masukkan nilai b: \"))\n",
        "\n",
        "# 2. Menampilkan hasil perbandingan menggunakan semua operator relasional dengan format f-string\n",
        "print(\"\\n---------- HASIL PERBANDINGAN ----------\")\n",
        "print(f\"{a} == {b} : {a == b}\")\n",
        "print(f\"{a} != {b} : {a != b}\")\n",
        "print(f\"{a} > {b}  : {a > b}\")\n",
        "print(f\"{a} < {b}  : {a < b}\")\n",
        "print(f\"{a} >= {b} : {a >= b}\")\n",
        "print(f\"{a} <= {b} : {a <= b}\")\n",
        "print(\"--------------------------------------\")"
      ],
      "metadata": {
        "colab": {
          "base_uri": "https://localhost:8080/"
        },
        "id": "0Tw513th91dc",
        "outputId": "efe07190-8bc9-4852-c92d-92e1c715ed71"
      },
      "execution_count": 22,
      "outputs": [
        {
          "output_type": "stream",
          "name": "stdout",
          "text": [
            "Masukkan nilai a: 21\n",
            "Masukkan nilai b: 7\n",
            "\n",
            "---------- HASIL PERBANDINGAN ----------\n",
            "21.0 == 7.0 : False\n",
            "21.0 != 7.0 : True\n",
            "21.0 > 7.0  : True\n",
            "21.0 < 7.0  : False\n",
            "21.0 >= 7.0 : True\n",
            "21.0 <= 7.0 : False\n",
            "--------------------------------------\n"
          ]
        }
      ]
    }
  ]
}