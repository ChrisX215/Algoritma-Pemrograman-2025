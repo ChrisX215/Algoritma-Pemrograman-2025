{
  "nbformat": 4,
  "nbformat_minor": 0,
  "metadata": {
    "colab": {
      "provenance": [],
      "authorship_tag": "ABX9TyPf9VJd8JJV0k6rgfc5QGMl",
      "include_colab_link": true
    },
    "kernelspec": {
      "name": "python3",
      "display_name": "Python 3"
    },
    "language_info": {
      "name": "python"
    }
  },
  "cells": [
    {
      "cell_type": "markdown",
      "metadata": {
        "id": "view-in-github",
        "colab_type": "text"
      },
      "source": [
        "<a href=\"https://colab.research.google.com/github/ChrisX215/Algoritma-Pemrograman-2025/blob/main/Praktikum_03.ipynb\" target=\"_parent\"><img src=\"https://colab.research.google.com/assets/colab-badge.svg\" alt=\"Open In Colab\"/></a>"
      ]
    },
    {
      "cell_type": "markdown",
      "source": [
        "# Praktikum 01 - If Sederhana"
      ],
      "metadata": {
        "id": "je2xvGrgOhlu"
      }
    },
    {
      "cell_type": "code",
      "execution_count": null,
      "metadata": {
        "colab": {
          "base_uri": "https://localhost:8080/"
        },
        "id": "B5ssDwp_-yjW",
        "outputId": "a4223204-b2e3-45e3-bffc-92e65f6ce00c"
      },
      "outputs": [
        {
          "output_type": "stream",
          "name": "stdout",
          "text": [
            "Masukkan nilai mahasiswa: 77\n",
            "Lulus\n"
          ]
        }
      ],
      "source": [
        "nilai = int(input(\"Masukkan nilai mahasiswa: \"))\n",
        "\n",
        "if nilai >= 60:\n",
        "  print(\"Lulus\")\n"
      ]
    },
    {
      "cell_type": "markdown",
      "source": [
        "# Praktikum 02 - If-Else"
      ],
      "metadata": {
        "id": "UD1_smWOO1vC"
      }
    },
    {
      "cell_type": "code",
      "source": [
        "nilai = int(input(\"Masukkan nilai mahasiswa: \"))\n",
        "\n",
        "if nilai >= 60:\n",
        "  print(\"Lulus\")\n",
        "else:\n",
        "  print(\"Tidak Lulus\")"
      ],
      "metadata": {
        "colab": {
          "base_uri": "https://localhost:8080/"
        },
        "id": "QakRC_MiO4M_",
        "outputId": "1c148967-3fc0-4d52-b608-e3305e953d7e"
      },
      "execution_count": null,
      "outputs": [
        {
          "output_type": "stream",
          "name": "stdout",
          "text": [
            "Masukkan nilai mahasiswa: 57\n",
            "Tidak Lulus\n"
          ]
        }
      ]
    },
    {
      "cell_type": "markdown",
      "source": [
        "# Praktikum 03 - If-Elif-Else"
      ],
      "metadata": {
        "id": "kBLOA18SP1U6"
      }
    },
    {
      "cell_type": "code",
      "source": [
        "nilai = int(input(\"Masukkan nilai mahasiswa: \"))\n",
        "\n",
        "if nilai >= 85:\n",
        "  grade = \"A\"\n",
        "elif nilai >= 70:\n",
        "  grade = \"B\"\n",
        "elif nilai >= 55:\n",
        "  grade = \"C\"\n",
        "elif nilai >= 40:\n",
        "  grade = \"D\"\n",
        "else:\n",
        "  grade = \"E\"\n",
        "\n",
        "print(f\"Nilai anda {nilai}, maka grade anda = {grade}\")"
      ],
      "metadata": {
        "colab": {
          "base_uri": "https://localhost:8080/"
        },
        "id": "pZbqYXGnP7hu",
        "outputId": "70fb1c9e-a715-4efb-ce1d-f53d57dd545c"
      },
      "execution_count": null,
      "outputs": [
        {
          "output_type": "stream",
          "name": "stdout",
          "text": [
            "Masukkan nilai mahasiswa: 87\n",
            "Nilai anda 87, maka grade anda = A\n"
          ]
        }
      ]
    },
    {
      "cell_type": "markdown",
      "source": [
        "# Praktikum 04 - Nested If"
      ],
      "metadata": {
        "id": "nLRyfsHlTIE5"
      }
    },
    {
      "cell_type": "code",
      "source": [
        "IPK = float(input(\"Masukkan IPK anda: \"))\n",
        "SKS = int(input(\"Masukkan jumlah SKS anda: \"))\n",
        "\n",
        "if IPK >= 3.0:\n",
        "  if SKS >= 18:\n",
        "    print(\"Anda LAYAK mendapat beasiswa\")\n",
        "  else:\n",
        "    print(\"IPK memenuhi, tapi SKS kurang\")\n",
        "else:\n",
        "  print(\"Anda TIDAK layak mendapat beasiswa\")"
      ],
      "metadata": {
        "colab": {
          "base_uri": "https://localhost:8080/"
        },
        "id": "xInC9DWCTKCm",
        "outputId": "b88a69a1-aa01-4c26-aed2-11dc6daee46d"
      },
      "execution_count": 10,
      "outputs": [
        {
          "output_type": "stream",
          "name": "stdout",
          "text": [
            "Masukkan IPK anda: 2.8\n",
            "Masukkan jumlah SKS anda: 20\n",
            "Anda TIDAK layak mendapat beasiswa\n"
          ]
        }
      ]
    },
    {
      "cell_type": "markdown",
      "source": [
        "# Praktikum 05 - Match-Case"
      ],
      "metadata": {
        "id": "8B-yVAxGTSr8"
      }
    },
    {
      "cell_type": "code",
      "source": [
        "menu = int(input(\"Pilih menu anda (1-3): \"))\n",
        "\n",
        "match menu:\n",
        "  case 1:\n",
        "    print(\"Anda memilih Nasi Goreng\")\n",
        "  case 2:\n",
        "    print(\"Anda memilih Mie Ayam\")\n",
        "  case 3:\n",
        "    print(\"Anda memilih Soto Ayam\")\n",
        "  case _:\n",
        "    print(\"Menu tidak tersedia\")\n"
      ],
      "metadata": {
        "colab": {
          "base_uri": "https://localhost:8080/"
        },
        "id": "dwMKSmFTTVfM",
        "outputId": "e852c468-673d-479e-d552-2e9c6674c489"
      },
      "execution_count": 8,
      "outputs": [
        {
          "output_type": "stream",
          "name": "stdout",
          "text": [
            "Pilih menu anda (1-3): 7\n",
            "Menu tidak tersedia\n"
          ]
        }
      ]
    },
    {
      "cell_type": "markdown",
      "source": [
        "# Praktikum 06 – Studi Kasus: Program Kasir"
      ],
      "metadata": {
        "id": "BsuStpEfT5zF"
      }
    },
    {
      "cell_type": "code",
      "source": [
        "barang = input(\"Masukkan nama barang anda: \")\n",
        "harga = float(input(\"Masukkan harga barang: \"))\n",
        "jumlah = int(input(\"Masukkan jumlah barang: \"))\n",
        "\n",
        "\n",
        "total = harga * jumlah\n",
        "\n",
        "if total >= 500000 :\n",
        "  diskon = 0.2\n",
        "elif total >= 250000 :\n",
        "  diskon = 0.1\n",
        "else :\n",
        "  diskon = 0\n",
        "\n",
        "bayar = total - (total * diskon)\n",
        "\n",
        "print(\"\\n===== Struk Belanja =====\")\n",
        "print(f\"Barang : {barang}\")\n",
        "print(f\"Jumlah : {jumlah}\")\n",
        "print(f\"Total : Rp {total}\")\n",
        "print(f\"Diskon : {diskon * 100}%\")\n",
        "print(f\"Bayar : Rp {bayar}\")\n",
        "print(\"\\n=========================\")"
      ],
      "metadata": {
        "colab": {
          "base_uri": "https://localhost:8080/"
        },
        "id": "QqyKRKwxT8GK",
        "outputId": "a984f783-4bf0-457e-f346-e514d6873cc4"
      },
      "execution_count": 14,
      "outputs": [
        {
          "output_type": "stream",
          "name": "stdout",
          "text": [
            "Masukkan nama barang anda: pulpen\n",
            "Masukkan harga barang: 5000\n",
            "Masukkan jumlah barang: 10\n",
            "\n",
            "===== Struk Belanja =====\n",
            "Barang : pulpen\n",
            "Jumlah : 10\n",
            "Total : Rp 50000.0\n",
            "Diskon : 0%\n",
            "Bayar : Rp 50000.0\n",
            "\n",
            "=========================\n"
          ]
        }
      ]
    },
    {
      "cell_type": "markdown",
      "source": [
        "# Penugasan 01 - Cek Bilangan Positif/Negatif/Nol"
      ],
      "metadata": {
        "id": "IsDEf3GoUSUq"
      }
    },
    {
      "cell_type": "code",
      "source": [
        "a = int(input(\"Masukkan angak (postitif, negatif, nol): \"))\n",
        "\n",
        "if a > 0:\n",
        "  print(\"Bilangan anda positif\")\n",
        "elif a <0:\n",
        "  print(\"Bilangan anda negatif\")\n",
        "else:\n",
        "  print(\"Bilangan anda adalah nol\")"
      ],
      "metadata": {
        "colab": {
          "base_uri": "https://localhost:8080/"
        },
        "id": "1mFCovHOiH3c",
        "outputId": "669b4241-0d35-472c-d627-f5f53c1b6262"
      },
      "execution_count": 1,
      "outputs": [
        {
          "output_type": "stream",
          "name": "stdout",
          "text": [
            "Masukkan angak (postitif, negatif, nol): -7\n",
            "Bilangan anda negatif\n"
          ]
        }
      ]
    },
    {
      "cell_type": "markdown",
      "source": [
        "# Penugasan 02 - Menentukan Kategori Usia"
      ],
      "metadata": {
        "id": "EVF899rJiVbd"
      }
    },
    {
      "cell_type": "code",
      "source": [
        "usia = int(input(\"Masukkan umur anda sekarang: \"))\n",
        "\n",
        "if usia < 5:\n",
        "  print(\"Anda golongan Balita\")\n",
        "elif usia >= 5 and usia <= 11:\n",
        "  print(\"Anda golongan Anak-anak\")\n",
        "elif usia >= 12 and usia <= 17:\n",
        "  print(\"Anda golongan Remaja\")\n",
        "elif usia >= 18 and usia <= 59:\n",
        "  print(\"Anda golongan Dewasa\")\n",
        "else:\n",
        "  print(\"Anda golongan Lansia\")"
      ],
      "metadata": {
        "colab": {
          "base_uri": "https://localhost:8080/"
        },
        "id": "tbPNGLZYi0DU",
        "outputId": "6bdb535b-3ccf-4d01-ce95-c52afa09244e"
      },
      "execution_count": 1,
      "outputs": [
        {
          "output_type": "stream",
          "name": "stdout",
          "text": [
            "Masukkan umur anda sekarang: 18\n",
            "Anda golongan Dewasa\n"
          ]
        }
      ]
    },
    {
      "cell_type": "markdown",
      "source": [
        "# Penugasan 03 - Hitung Tarif Parkir"
      ],
      "metadata": {
        "id": "qjLQNx52iaC9"
      }
    },
    {
      "cell_type": "code",
      "source": [
        "jam = int(input(\"Masukkan total jam parkir: \"))\n",
        "\n",
        "if jam <=2:\n",
        "  print(\"Bayar 5.000\")\n",
        "elif jam <=10:\n",
        "  jam = ((jam - 2) * 2000) + 5000\n",
        "  print(f\"Bayar {jam}\")\n",
        "else:\n",
        "  print(\"Bayar 20.000\")"
      ],
      "metadata": {
        "colab": {
          "base_uri": "https://localhost:8080/"
        },
        "id": "8W_CFAkDi0f1",
        "outputId": "e48768a4-24aa-4184-caba-2b0d86e42f50"
      },
      "execution_count": 3,
      "outputs": [
        {
          "output_type": "stream",
          "name": "stdout",
          "text": [
            "Masukkan total jam parkir: 4\n",
            "Bayar 9000\n"
          ]
        }
      ]
    },
    {
      "cell_type": "markdown",
      "source": [
        "# Penugasan 04 - Cek login sederhana"
      ],
      "metadata": {
        "id": "OZ22g7SgidwD"
      }
    },
    {
      "cell_type": "code",
      "source": [
        "username = input(\"Masukkan username: \")\n",
        "password = input(\"Masukkan password: \")\n",
        "\n",
        "if username == \"admin\":\n",
        "  if password == \"1234\":\n",
        "    print(\"Login berhasil\")\n",
        "  else:\n",
        "    print(\"Password salah\")\n",
        "else:\n",
        "  print(\"username atau password mungkin salah\")"
      ],
      "metadata": {
        "colab": {
          "base_uri": "https://localhost:8080/"
        },
        "id": "JWGIBtz9i04A",
        "outputId": "ceae18b4-ea59-45b2-c6c9-59dd7d7dc7c5"
      },
      "execution_count": 4,
      "outputs": [
        {
          "output_type": "stream",
          "name": "stdout",
          "text": [
            "Masukkan username: admin\n",
            "Masukkan password: 1234\n",
            "Login berhasil\n"
          ]
        }
      ]
    },
    {
      "cell_type": "markdown",
      "source": [
        "# Penugasan 05 - One-Liner If (Cek Genap/Ganjil)"
      ],
      "metadata": {
        "id": "SFTI8EjpieaZ"
      }
    },
    {
      "cell_type": "code",
      "source": [
        "angka = int(input(\"Masukkan sebuah angka: \"))\n",
        "\n",
        "if angka % 2 == 0:\n",
        "  print(f\"{angka} adalah bilangan Genap\")\n",
        "else:\n",
        "  print(f\"{angka} adalah bilangan Ganjil\")"
      ],
      "metadata": {
        "colab": {
          "base_uri": "https://localhost:8080/"
        },
        "id": "CU14Bx73i1QJ",
        "outputId": "62c9f1e8-e4b1-4723-8880-ce94efcd772b"
      },
      "execution_count": 5,
      "outputs": [
        {
          "output_type": "stream",
          "name": "stdout",
          "text": [
            "Masukkan sebuah angka: 7\n",
            "7 adalah bilangan Ganjil\n"
          ]
        }
      ]
    },
    {
      "cell_type": "markdown",
      "source": [
        "# Penugaasan 06 - Menu Restoran dengan Match-Case"
      ],
      "metadata": {
        "id": "H2oZ2i3oiesO"
      }
    },
    {
      "cell_type": "code",
      "source": [
        "print(\"===== Menu =====\")\n",
        "menu = int(input(\"Pilih menu anda (1-3): \"))\n",
        "\n",
        "match menu:\n",
        "  case 1: #Pilihan 1\n",
        "    print(\"Anda memilih Nasi Goreng\")\n",
        "  case 2: #Pilihan 2\n",
        "    print(\"Anda memilih Mie Ayam\")\n",
        "  case 3: #Pilihan 3\n",
        "    print(\"Anda memilih Soto Ayam\")\n",
        "  case _: #Pilihan selain 1,2 atau 3\n",
        "    print(\"Menu tidak tersedia cek kembali menu anda\")"
      ],
      "metadata": {
        "colab": {
          "base_uri": "https://localhost:8080/"
        },
        "id": "b6YRjKcMi1rk",
        "outputId": "161cd6e4-8239-4e1f-f016-8f3bf7cb7f4c"
      },
      "execution_count": 6,
      "outputs": [
        {
          "output_type": "stream",
          "name": "stdout",
          "text": [
            "===== Menu =====\n",
            "Pilih menu anda (1-3): 5\n",
            "Menu tidak tersedia cek kembali menu anda\n"
          ]
        }
      ]
    },
    {
      "cell_type": "markdown",
      "source": [
        "# Penugasan 07 - Studi Kasus Nyata – Program Penentuan Diskon"
      ],
      "metadata": {
        "id": "lnWFmwvxifE8"
      }
    },
    {
      "cell_type": "code",
      "source": [
        "nama = input(\"Masukkan nama barang: \")\n",
        "harga = int(input(\"Masukkan harga barang: \"))\n",
        "frek = int(input(\"Masukkan frekuensi barang: \"))\n",
        "\n",
        "total = harga * frek\n",
        "\n",
        "if total >=500000:\n",
        "  diskon = 0.2\n",
        "elif total >= 250000:\n",
        "  diskon = 0.1\n",
        "else:\n",
        "  diskon = 0\n",
        "\n",
        "bayar = total - (total * diskon)\n",
        "discon = total * diskon\n",
        "print(\"\\n===== bukti bayar =====\")\n",
        "print(f\"Nama Barang: {nama}\")\n",
        "print(f\"Harga: {harga}\")\n",
        "print(f\"Frekuensi: {frek}\")\n",
        "print(f\"Total: {total}\")\n",
        "print(f\"Diskon: {diskon * 100} %\")\n",
        "print(f\"Total diskon: {discon}\")\n",
        "print(f\"Total Bayar: {bayar}\")\n",
        "print(\"\\n=======================\")"
      ],
      "metadata": {
        "colab": {
          "base_uri": "https://localhost:8080/"
        },
        "id": "BkR9vLe6i17j",
        "outputId": "0023d102-39ed-4200-945b-effcb1aedebb"
      },
      "execution_count": 7,
      "outputs": [
        {
          "output_type": "stream",
          "name": "stdout",
          "text": [
            "Masukkan nama barang: Kaos\n",
            "Masukkan harga barang: 77000\n",
            "Masukkan frekuensi barang: 4\n",
            "\n",
            "===== bukti bayar =====\n",
            "Nama Barang: Kaos\n",
            "Harga: 77000\n",
            "Frekuensi: 4\n",
            "Total: 308000\n",
            "Diskon: 10.0 %\n",
            "Total diskon: 30800.0\n",
            "Total Bayar: 277200.0\n",
            "\n",
            "=======================\n"
          ]
        }
      ]
    }
  ]
}